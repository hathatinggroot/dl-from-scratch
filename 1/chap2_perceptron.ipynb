{
 "cells": [
  {
   "cell_type": "markdown",
   "source": [
    "# Perceptron\n",
    "\n",
    "perceptron : 다수의 신호를 입력받아 하나의 신호를 출력하는 처리 과정    \n",
    "\n",
    "\n",
    "![](assets/2021-09-08-19-39-02.png)     \n",
    "\n",
    "$ y = w_1x_1 + w_2x_2 $\n",
    "\n",
    "\n",
    "---"
   ],
   "metadata": {}
  },
  {
   "cell_type": "code",
   "execution_count": 59,
   "source": [
    "import numpy as np\n",
    "\n",
    "def AND(x1: bool, x2: bool) -> bool:\n",
    "    x = np.array([x1, x2])\n",
    "    w = np.array([0.5, 0.5])\n",
    "    theta = 0.7\n",
    "    return (x*w).sum() >= theta\n",
    "\n",
    "print(AND(True, True))\n",
    "print(AND(True, False))\n",
    "print(AND(False, False))"
   ],
   "outputs": [
    {
     "output_type": "stream",
     "name": "stdout",
     "text": [
      "True\n",
      "False\n",
      "False\n"
     ]
    }
   ],
   "metadata": {}
  },
  {
   "cell_type": "code",
   "execution_count": 60,
   "source": [
    "import numpy as np\n",
    "\n",
    "def AndWithBias(x1: bool, x2: bool) -> bool:\n",
    "    x = np.array([x1, x2])\n",
    "    w = np.array([0.5, 0.5])\n",
    "    b = 0.2\n",
    "    theta = 0.7\n",
    "    return (x*w).sum() + b >= theta\n",
    "\n",
    "print(AndWithBias(True, True))\n",
    "print(AndWithBias(True, False))\n",
    "print(AndWithBias(False, False))\n"
   ],
   "outputs": [
    {
     "output_type": "stream",
     "name": "stdout",
     "text": [
      "True\n",
      "True\n",
      "False\n"
     ]
    }
   ],
   "metadata": {}
  },
  {
   "cell_type": "code",
   "execution_count": 61,
   "source": [
    "import numpy as np\n",
    "\n",
    "def NAND(x1: bool, x2: bool) -> bool:\n",
    "    return not AND(x1, x2)\n",
    "    \n",
    "print(NAND(True, True))\n",
    "print(NAND(True, False))\n",
    "print(NAND(False, False))"
   ],
   "outputs": [
    {
     "output_type": "stream",
     "name": "stdout",
     "text": [
      "False\n",
      "True\n",
      "True\n"
     ]
    }
   ],
   "metadata": {}
  },
  {
   "cell_type": "code",
   "execution_count": 62,
   "source": [
    "import numpy as np\n",
    "\n",
    "def OR(x1: bool, x2: bool) -> bool:\n",
    "    x = np.array([x1, x2])\n",
    "    w = np.array([0.5, 0.5])\n",
    "    theta = 0.5\n",
    "    return (x*w).sum() >= theta\n",
    "    \n",
    "print(OR(True, True))\n",
    "print(OR(True, False))\n",
    "print(OR(False, False))"
   ],
   "outputs": [
    {
     "output_type": "stream",
     "name": "stdout",
     "text": [
      "True\n",
      "True\n",
      "False\n"
     ]
    }
   ],
   "metadata": {}
  },
  {
   "cell_type": "code",
   "execution_count": 63,
   "source": [
    "import numpy as np\n",
    "\n",
    "def XOR(x1: bool, x2: bool) -> bool:\n",
    "    x = np.array([x1, x2])\n",
    "    w = np.array([-0.5, 0.5])\n",
    "    theta = 0\n",
    "    return (x*w).sum() != theta\n",
    "    \n",
    "print(XOR(True, True))\n",
    "print(XOR(True, False))\n",
    "print(XOR(False, False))"
   ],
   "outputs": [
    {
     "output_type": "stream",
     "name": "stdout",
     "text": [
      "False\n",
      "True\n",
      "False\n"
     ]
    }
   ],
   "metadata": {}
  },
  {
   "cell_type": "code",
   "execution_count": 64,
   "source": [
    "import numpy as np\n",
    "\n",
    "def XORWithMLP(x1: bool, x2: bool) -> bool:\n",
    "    return AND(OR(x1, x2), NAND(x1, x2))\n",
    "    \n",
    "print(XORWithMLP(True, True))\n",
    "print(XORWithMLP(True, False))\n",
    "print(XORWithMLP(False, False))"
   ],
   "outputs": [
    {
     "output_type": "stream",
     "name": "stdout",
     "text": [
      "False\n",
      "True\n",
      "False\n"
     ]
    }
   ],
   "metadata": {}
  },
  {
   "cell_type": "markdown",
   "source": [
    "![](assets/2021-09-08-20-20-22.png)\n"
   ],
   "metadata": {}
  },
  {
   "cell_type": "code",
   "execution_count": null,
   "source": [],
   "outputs": [],
   "metadata": {}
  },
  {
   "cell_type": "markdown",
   "source": [],
   "metadata": {}
  }
 ],
 "metadata": {
  "orig_nbformat": 4,
  "language_info": {
   "name": "python",
   "version": "3.8.8",
   "mimetype": "text/x-python",
   "codemirror_mode": {
    "name": "ipython",
    "version": 3
   },
   "pygments_lexer": "ipython3",
   "nbconvert_exporter": "python",
   "file_extension": ".py"
  },
  "kernelspec": {
   "name": "python388jvsc74a57bd0c38145f413ce776b877e82b073413462501d42396f9d94a4b38839b8b8b6419c",
   "display_name": "Python 3.8.8 64-bit ('base': conda)",
   "language": "python"
  }
 },
 "nbformat": 4,
 "nbformat_minor": 2
}